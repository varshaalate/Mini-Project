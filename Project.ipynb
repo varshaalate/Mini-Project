{
  "nbformat": 4,
  "nbformat_minor": 0,
  "metadata": {
    "colab": {
      "name": "Project.ipynb",
      "provenance": [],
      "collapsed_sections": []
    },
    "kernelspec": {
      "name": "python3",
      "display_name": "Python 3"
    },
    "language_info": {
      "name": "python"
    }
  },
  "cells": [
    {
      "cell_type": "code",
      "source": [
        "import numpy as np # linear algebra\n",
        "import pandas as pd # data processing, CSV file I/O (e.g. pd.read_csv)"
      ],
      "metadata": {
        "id": "zqpRSt1358ob"
      },
      "execution_count": null,
      "outputs": []
    },
    {
      "cell_type": "code",
      "source": [
        "import os\n",
        "for dirname, _, filenames in os.walk('C:\\\\Users\\\\user\\\\Downloads\\\\archive (2)\\\\dataset.csv'):\n",
        "    for filename in filenames:\n",
        "        print(os.path.join(dirname, filename))"
      ],
      "metadata": {
        "id": "_bTepROe9ujy"
      },
      "execution_count": null,
      "outputs": []
    },
    {
      "cell_type": "code",
      "source": [
        "train = pd.read_csv('Training.csv')\n",
        "test= pd.read_csv('Testing.csv')\n",
        "train.head()\n",
        "\n",
        "train.drop('Unnamed: 133', axis=1, inplace=True)\n",
        "train.shape"
      ],
      "metadata": {
        "colab": {
          "base_uri": "https://localhost:8080/"
        },
        "id": "oSGmjGXm6GB4",
        "outputId": "381066f7-00eb-4817-cf04-3cb5e5da1030"
      },
      "execution_count": null,
      "outputs": [
        {
          "output_type": "execute_result",
          "data": {
            "text/plain": [
              "(4920, 133)"
            ]
          },
          "metadata": {},
          "execution_count": 4
        }
      ]
    },
    {
      "cell_type": "code",
      "source": [
        "train.nunique()"
      ],
      "metadata": {
        "colab": {
          "base_uri": "https://localhost:8080/"
        },
        "id": "9NPU672J6UCl",
        "outputId": "78b93fee-2efc-469e-f7f1-267d6f556d58"
      },
      "execution_count": null,
      "outputs": [
        {
          "output_type": "execute_result",
          "data": {
            "text/plain": [
              "itching                  2\n",
              "skin_rash                2\n",
              "nodal_skin_eruptions     2\n",
              "continuous_sneezing      2\n",
              "shivering                2\n",
              "                        ..\n",
              "inflammatory_nails       2\n",
              "blister                  2\n",
              "red_sore_around_nose     2\n",
              "yellow_crust_ooze        2\n",
              "prognosis               41\n",
              "Length: 133, dtype: int64"
            ]
          },
          "metadata": {},
          "execution_count": 5
        }
      ]
    },
    {
      "cell_type": "code",
      "source": [
        "X_train= train.drop('prognosis', axis=1)\n",
        "X_test= test.drop('prognosis', axis=1)\n",
        "\n",
        "y_train= np.array(train['prognosis'])\n",
        "y_test= np.array(test['prognosis'])"
      ],
      "metadata": {
        "id": "hZmri-Di6Y6l"
      },
      "execution_count": null,
      "outputs": []
    },
    {
      "cell_type": "code",
      "source": [
        "y_train_enc= pd.get_dummies(y_train)\n",
        "y_test_enc= pd.get_dummies(y_test)"
      ],
      "metadata": {
        "id": "XtgccHUS6gd7"
      },
      "execution_count": null,
      "outputs": []
    },
    {
      "cell_type": "code",
      "source": [
        "# Get all the symptoms for all diseases\n",
        "for x in range(len(y_test)):\n",
        "    symptoms = []\n",
        "    for key, value in X_test.iloc[x].to_dict().items():\n",
        "        if (value == 1):\n",
        "            symptoms.append(key)\n",
        "    print(y_test[x] + \" => \" + str(symptoms))\n",
        "    print()"
      ],
      "metadata": {
        "colab": {
          "base_uri": "https://localhost:8080/"
        },
        "id": "SO4SruLs6iWi",
        "outputId": "08ebb17e-fe35-4fca-e653-dae8b6085a3f"
      },
      "execution_count": null,
      "outputs": [
        {
          "output_type": "stream",
          "name": "stdout",
          "text": [
            "Fungal infection => ['itching', 'skin_rash', 'nodal_skin_eruptions', 'dischromic _patches']\n",
            "\n",
            "Allergy => ['continuous_sneezing', 'shivering', 'chills', 'watering_from_eyes']\n",
            "\n",
            "GERD => ['stomach_pain', 'acidity', 'ulcers_on_tongue', 'vomiting', 'cough', 'chest_pain']\n",
            "\n",
            "Chronic cholestasis => ['itching', 'vomiting', 'yellowish_skin', 'nausea', 'loss_of_appetite', 'abdominal_pain', 'yellowing_of_eyes']\n",
            "\n",
            "Drug Reaction => ['itching', 'skin_rash', 'stomach_pain', 'burning_micturition', 'spotting_ urination']\n",
            "\n",
            "Peptic ulcer diseae => ['vomiting', 'indigestion', 'loss_of_appetite', 'abdominal_pain', 'passage_of_gases', 'internal_itching']\n",
            "\n",
            "AIDS => ['muscle_wasting', 'patches_in_throat', 'high_fever', 'extra_marital_contacts']\n",
            "\n",
            "Diabetes  => ['fatigue', 'weight_loss', 'restlessness', 'lethargy', 'irregular_sugar_level', 'blurred_and_distorted_vision', 'obesity', 'excessive_hunger', 'increased_appetite', 'polyuria']\n",
            "\n",
            "Gastroenteritis => ['vomiting', 'sunken_eyes', 'dehydration', 'diarrhoea']\n",
            "\n",
            "Bronchial Asthma => ['fatigue', 'cough', 'high_fever', 'breathlessness', 'family_history', 'mucoid_sputum']\n",
            "\n",
            "Hypertension  => ['headache', 'chest_pain', 'dizziness', 'loss_of_balance', 'lack_of_concentration']\n",
            "\n",
            "Migraine => ['acidity', 'indigestion', 'headache', 'blurred_and_distorted_vision', 'excessive_hunger', 'stiff_neck', 'depression', 'irritability', 'visual_disturbances']\n",
            "\n",
            "Cervical spondylosis => ['back_pain', 'weakness_in_limbs', 'neck_pain', 'dizziness', 'loss_of_balance']\n",
            "\n",
            "Paralysis (brain hemorrhage) => ['vomiting', 'headache', 'weakness_of_one_body_side', 'altered_sensorium']\n",
            "\n",
            "Jaundice => ['itching', 'vomiting', 'fatigue', 'weight_loss', 'high_fever', 'yellowish_skin', 'dark_urine', 'abdominal_pain']\n",
            "\n",
            "Malaria => ['chills', 'vomiting', 'high_fever', 'sweating', 'headache', 'nausea', 'diarrhoea', 'muscle_pain']\n",
            "\n",
            "Chicken pox => ['itching', 'skin_rash', 'fatigue', 'lethargy', 'high_fever', 'headache', 'loss_of_appetite', 'mild_fever', 'swelled_lymph_nodes', 'malaise', 'red_spots_over_body']\n",
            "\n",
            "Dengue => ['skin_rash', 'chills', 'joint_pain', 'vomiting', 'fatigue', 'high_fever', 'headache', 'nausea', 'loss_of_appetite', 'pain_behind_the_eyes', 'back_pain', 'malaise', 'muscle_pain', 'red_spots_over_body']\n",
            "\n",
            "Typhoid => ['chills', 'vomiting', 'fatigue', 'high_fever', 'headache', 'nausea', 'constipation', 'abdominal_pain', 'diarrhoea', 'toxic_look_(typhos)', 'belly_pain']\n",
            "\n",
            "hepatitis A => ['joint_pain', 'vomiting', 'yellowish_skin', 'dark_urine', 'nausea', 'loss_of_appetite', 'abdominal_pain', 'diarrhoea', 'mild_fever', 'yellowing_of_eyes', 'muscle_pain']\n",
            "\n",
            "Hepatitis B => ['itching', 'fatigue', 'lethargy', 'yellowish_skin', 'dark_urine', 'loss_of_appetite', 'abdominal_pain', 'yellow_urine', 'yellowing_of_eyes', 'malaise', 'receiving_blood_transfusion', 'receiving_unsterile_injections']\n",
            "\n",
            "Hepatitis C => ['fatigue', 'yellowish_skin', 'nausea', 'loss_of_appetite', 'yellowing_of_eyes', 'family_history']\n",
            "\n",
            "Hepatitis D => ['joint_pain', 'vomiting', 'fatigue', 'yellowish_skin', 'dark_urine', 'nausea', 'loss_of_appetite', 'abdominal_pain', 'yellowing_of_eyes']\n",
            "\n",
            "Hepatitis E => ['joint_pain', 'vomiting', 'fatigue', 'high_fever', 'yellowish_skin', 'dark_urine', 'nausea', 'loss_of_appetite', 'abdominal_pain', 'yellowing_of_eyes', 'acute_liver_failure', 'coma', 'stomach_bleeding']\n",
            "\n",
            "Alcoholic hepatitis => ['vomiting', 'yellowish_skin', 'abdominal_pain', 'swelling_of_stomach', 'distention_of_abdomen', 'history_of_alcohol_consumption', 'fluid_overload.1']\n",
            "\n",
            "Tuberculosis => ['chills', 'vomiting', 'fatigue', 'weight_loss', 'cough', 'high_fever', 'breathlessness', 'sweating', 'loss_of_appetite', 'mild_fever', 'yellowing_of_eyes', 'swelled_lymph_nodes', 'malaise', 'phlegm', 'chest_pain', 'blood_in_sputum']\n",
            "\n",
            "Common Cold => ['continuous_sneezing', 'chills', 'fatigue', 'cough', 'high_fever', 'headache', 'swelled_lymph_nodes', 'malaise', 'phlegm', 'throat_irritation', 'redness_of_eyes', 'sinus_pressure', 'runny_nose', 'congestion', 'chest_pain', 'loss_of_smell', 'muscle_pain']\n",
            "\n",
            "Pneumonia => ['chills', 'fatigue', 'cough', 'high_fever', 'breathlessness', 'sweating', 'malaise', 'phlegm', 'chest_pain', 'fast_heart_rate', 'rusty_sputum']\n",
            "\n",
            "Dimorphic hemmorhoids(piles) => ['constipation', 'pain_during_bowel_movements', 'pain_in_anal_region', 'bloody_stool', 'irritation_in_anus']\n",
            "\n",
            "Heart attack => ['vomiting', 'breathlessness', 'sweating', 'chest_pain']\n",
            "\n",
            "Varicose veins => ['fatigue', 'cramps', 'bruising', 'obesity', 'swollen_legs', 'swollen_blood_vessels', 'prominent_veins_on_calf']\n",
            "\n",
            "Hypothyroidism => ['fatigue', 'weight_gain', 'cold_hands_and_feets', 'mood_swings', 'lethargy', 'dizziness', 'puffy_face_and_eyes', 'enlarged_thyroid', 'brittle_nails', 'swollen_extremeties', 'depression', 'irritability', 'abnormal_menstruation']\n",
            "\n",
            "Hyperthyroidism => ['fatigue', 'mood_swings', 'weight_loss', 'restlessness', 'sweating', 'diarrhoea', 'fast_heart_rate', 'excessive_hunger', 'muscle_weakness', 'irritability', 'abnormal_menstruation']\n",
            "\n",
            "Hypoglycemia => ['vomiting', 'fatigue', 'anxiety', 'sweating', 'headache', 'nausea', 'blurred_and_distorted_vision', 'excessive_hunger', 'drying_and_tingling_lips', 'slurred_speech', 'irritability', 'palpitations']\n",
            "\n",
            "Osteoarthristis => ['joint_pain', 'neck_pain', 'knee_pain', 'hip_joint_pain', 'swelling_joints', 'painful_walking']\n",
            "\n",
            "Arthritis => ['muscle_weakness', 'stiff_neck', 'swelling_joints', 'movement_stiffness', 'painful_walking']\n",
            "\n",
            "(vertigo) Paroymsal  Positional Vertigo => ['vomiting', 'headache', 'nausea', 'spinning_movements', 'loss_of_balance', 'unsteadiness']\n",
            "\n",
            "Acne => ['skin_rash', 'pus_filled_pimples', 'blackheads', 'scurring']\n",
            "\n",
            "Urinary tract infection => ['burning_micturition', 'bladder_discomfort', 'foul_smell_of urine', 'continuous_feel_of_urine']\n",
            "\n",
            "Psoriasis => ['skin_rash', 'joint_pain', 'skin_peeling', 'silver_like_dusting', 'small_dents_in_nails', 'inflammatory_nails']\n",
            "\n",
            "Impetigo => ['skin_rash', 'high_fever', 'blister', 'red_sore_around_nose', 'yellow_crust_ooze']\n",
            "\n",
            "Fungal infection => ['itching', 'skin_rash', 'red_spots_over_body', 'family_history', 'skin_peeling', 'red_sore_around_nose']\n",
            "\n"
          ]
        }
      ]
    },
    {
      "cell_type": "code",
      "source": [
        "import keras\n",
        "from keras.layers import Dense\n",
        "from keras.models import Sequential\n",
        "from keras.callbacks import EarlyStopping\n",
        "\n",
        "print(keras.__version__)"
      ],
      "metadata": {
        "colab": {
          "base_uri": "https://localhost:8080/"
        },
        "id": "3osef6pl6rPV",
        "outputId": "8d72d97e-6444-43f0-a8c0-22fd0e8c30ec"
      },
      "execution_count": null,
      "outputs": [
        {
          "output_type": "stream",
          "name": "stdout",
          "text": [
            "2.7.0\n"
          ]
        }
      ]
    },
    {
      "cell_type": "code",
      "source": [
        "model= Sequential()\n",
        "model.add(Dense(64, activation='relu', input_shape= (X_train.shape[1], )))\n",
        "model.add(Dense(32, activation='relu'))\n",
        "model.add(Dense(16, activation='relu'))\n",
        "model.add(Dense(y_train_enc.shape[1], activation='softmax'))"
      ],
      "metadata": {
        "id": "ZYDq78-o6x8t"
      },
      "execution_count": null,
      "outputs": []
    },
    {
      "cell_type": "code",
      "source": [
        "model.summary()"
      ],
      "metadata": {
        "colab": {
          "base_uri": "https://localhost:8080/"
        },
        "id": "fT4nqmSY66G7",
        "outputId": "521d4a8c-027b-4c84-fa76-79d1bf572315"
      },
      "execution_count": null,
      "outputs": [
        {
          "output_type": "stream",
          "name": "stdout",
          "text": [
            "Model: \"sequential\"\n",
            "_________________________________________________________________\n",
            " Layer (type)                Output Shape              Param #   \n",
            "=================================================================\n",
            " dense (Dense)               (None, 64)                8512      \n",
            "                                                                 \n",
            " dense_1 (Dense)             (None, 32)                2080      \n",
            "                                                                 \n",
            " dense_2 (Dense)             (None, 16)                528       \n",
            "                                                                 \n",
            " dense_3 (Dense)             (None, 41)                697       \n",
            "                                                                 \n",
            "=================================================================\n",
            "Total params: 11,817\n",
            "Trainable params: 11,817\n",
            "Non-trainable params: 0\n",
            "_________________________________________________________________\n"
          ]
        }
      ]
    },
    {
      "cell_type": "code",
      "source": [
        "model.compile('adam', loss='categorical_crossentropy', metrics=['accuracy'])"
      ],
      "metadata": {
        "id": "ILX1SEUF7sq6"
      },
      "execution_count": null,
      "outputs": []
    },
    {
      "cell_type": "code",
      "source": [
        "early_stopping_monitor= EarlyStopping(patience=2, monitor='val_accuracy')\n",
        "model.fit(X_train, y_train_enc, batch_size=120, epochs=30, validation_split=0.3, callbacks=[early_stopping_monitor])"
      ],
      "metadata": {
        "colab": {
          "base_uri": "https://localhost:8080/"
        },
        "id": "mYfCeF4S7jtL",
        "outputId": "a742df9b-ada9-4bd2-860d-5ee7961e46fd"
      },
      "execution_count": null,
      "outputs": [
        {
          "output_type": "stream",
          "name": "stdout",
          "text": [
            "Epoch 1/30\n",
            "29/29 [==============================] - 1s 17ms/step - loss: 3.5966 - accuracy: 0.1176 - val_loss: 3.4077 - val_accuracy: 0.2195\n",
            "Epoch 2/30\n",
            "29/29 [==============================] - 0s 4ms/step - loss: 3.1999 - accuracy: 0.2311 - val_loss: 2.8149 - val_accuracy: 0.3415\n",
            "Epoch 3/30\n",
            "29/29 [==============================] - 0s 5ms/step - loss: 2.4893 - accuracy: 0.3595 - val_loss: 1.8984 - val_accuracy: 0.5366\n",
            "Epoch 4/30\n",
            "29/29 [==============================] - 0s 5ms/step - loss: 1.5189 - accuracy: 0.7526 - val_loss: 0.8556 - val_accuracy: 0.9024\n",
            "Epoch 5/30\n",
            "29/29 [==============================] - 0s 4ms/step - loss: 0.6335 - accuracy: 0.9506 - val_loss: 0.2474 - val_accuracy: 1.0000\n",
            "Epoch 6/30\n",
            "29/29 [==============================] - 0s 4ms/step - loss: 0.2106 - accuracy: 0.9954 - val_loss: 0.0730 - val_accuracy: 1.0000\n",
            "Epoch 7/30\n",
            "29/29 [==============================] - 0s 5ms/step - loss: 0.0853 - accuracy: 0.9994 - val_loss: 0.0303 - val_accuracy: 1.0000\n"
          ]
        },
        {
          "output_type": "execute_result",
          "data": {
            "text/plain": [
              "<keras.callbacks.History at 0x7f43b977d1d0>"
            ]
          },
          "metadata": {},
          "execution_count": 14
        }
      ]
    },
    {
      "cell_type": "code",
      "source": [
        "model.evaluate(X_test, y_test_enc, batch_size=1, steps=5)"
      ],
      "metadata": {
        "colab": {
          "base_uri": "https://localhost:8080/"
        },
        "id": "TYHLHDWj790K",
        "outputId": "ed7cf99d-9fa7-4845-cb44-7ab36e9bfd18"
      },
      "execution_count": null,
      "outputs": [
        {
          "output_type": "stream",
          "name": "stdout",
          "text": [
            "5/5 [==============================] - 0s 3ms/step - loss: 0.0298 - accuracy: 1.0000\n"
          ]
        },
        {
          "output_type": "execute_result",
          "data": {
            "text/plain": [
              "[0.029822546988725662, 1.0]"
            ]
          },
          "metadata": {},
          "execution_count": 16
        }
      ]
    },
    {
      "cell_type": "code",
      "source": [
        "# save model\n",
        "model.save('disease_model.h5')\n",
        "\n",
        "# load model\n",
        "my_new_model = keras.models.load_model('disease_model.h5')"
      ],
      "metadata": {
        "id": "oE2Pu78i7_8B"
      },
      "execution_count": null,
      "outputs": []
    },
    {
      "cell_type": "code",
      "source": [
        "import copy\n",
        "\n",
        "# create test for prediction\n",
        "SYMPTOMS = {'itching': {0: 0}, 'skin_rash': {0: 0}, 'nodal_skin_eruptions': {0: 0}, 'continuous_sneezing': {0: 0}, 'shivering': {0: 0}, 'chills': {0: 0}, 'joint_pain': {0: 0}, 'stomach_pain': {0: 0}, 'acidity': {0: 0}, 'ulcers_on_tongue': {0: 0}, 'muscle_wasting': {0: 0}, 'vomiting': {0: 0}, 'burning_micturition': {0: 0}, 'spotting_ urination': {0: 0}, 'fatigue': {0: 0}, 'weight_gain': {0: 0}, 'anxiety': {0: 0}, 'cold_hands_and_feets': {0: 0}, 'mood_swings': {0: 0}, 'weight_loss': {0: 0}, 'restlessness': {0: 0}, 'lethargy': {0: 0}, 'patches_in_throat': {0: 0}, 'irregular_sugar_level': {0: 0}, 'cough': {0: 0}, 'high_fever': {0: 0}, 'sunken_eyes': {0: 0}, 'breathlessness': {0: 0}, 'sweating': {0: 0}, 'dehydration': {0: 0}, 'indigestion': {0: 0}, 'headache': {0: 0}, 'yellowish_skin': {0: 0}, 'dark_urine': {0: 0}, 'nausea': {0: 0}, 'loss_of_appetite': {0: 0}, 'pain_behind_the_eyes': {0: 0}, 'back_pain': {0: 0}, 'constipation': {0: 0}, 'abdominal_pain': {0: 0}, 'diarrhoea': {0: 0}, 'mild_fever': {0: 0}, 'yellow_urine': {0: 0}, 'yellowing_of_eyes': {0: 0}, 'acute_liver_failure': {0: 0}, 'fluid_overload': {0: 0}, 'swelling_of_stomach': {0: 0}, 'swelled_lymph_nodes': {0: 0}, 'malaise': {0: 0}, 'blurred_and_distorted_vision': {0: 0}, 'phlegm': {0: 0}, 'throat_irritation': {0: 0}, 'redness_of_eyes': {0: 0}, 'sinus_pressure': {0: 0}, 'runny_nose': {0: 0}, 'congestion': {0: 0}, 'chest_pain': {0: 0}, 'weakness_in_limbs': {0: 0}, 'fast_heart_rate': {0: 0}, 'pain_during_bowel_movements': {0: 0}, 'pain_in_anal_region': {0: 0}, 'bloody_stool': {0: 0}, 'irritation_in_anus': {0: 0}, 'neck_pain': {0: 0}, 'dizziness': {0: 0}, 'cramps': {0: 0}, 'bruising': {0: 0}, 'obesity': {0: 0}, 'swollen_legs': {0: 0}, 'swollen_blood_vessels': {0: 0}, 'puffy_face_and_eyes': {0: 0}, 'enlarged_thyroid': {0: 0}, 'brittle_nails': {0: 0}, 'swollen_extremeties': {0: 0}, 'excessive_hunger': {0: 0}, 'extra_marital_contacts': {0: 0}, 'drying_and_tingling_lips': {0: 0}, 'slurred_speech': {0: 0}, 'knee_pain': {0: 0}, 'hip_joint_pain': {0: 0}, 'muscle_weakness': {0: 0}, 'stiff_neck': {0: 0}, 'swelling_joints': {0: 0}, 'movement_stiffness': {0: 0}, 'spinning_movements': {0: 0}, 'loss_of_balance': {0: 0}, 'unsteadiness': {0: 0}, 'weakness_of_one_body_side': {0: 0}, 'loss_of_smell': {0: 0}, 'bladder_discomfort': {0: 0}, 'foul_smell_of urine': {0: 0}, 'continuous_feel_of_urine': {0: 0}, 'passage_of_gases': {0: 0}, 'internal_itching': {0: 0}, 'toxic_look_(typhos)': {0: 0}, 'depression': {0: 0}, 'irritability': {0: 0}, 'muscle_pain': {0: 0}, 'altered_sensorium': {0: 0}, 'red_spots_over_body': {0: 0}, 'belly_pain': {0: 0}, 'abnormal_menstruation': {0: 0}, 'dischromic _patches': {0: 0}, 'watering_from_eyes': {0: 0}, 'increased_appetite': {0: 0}, 'polyuria': {0: 0}, 'family_history': {0: 0}, 'mucoid_sputum': {0: 0}, 'rusty_sputum': {0: 0}, 'lack_of_concentration': {0: 0}, 'visual_disturbances': {0: 0}, 'receiving_blood_transfusion': {0: 0}, 'receiving_unsterile_injections': {0: 0}, 'coma': {0: 0}, 'stomach_bleeding': {0: 0}, 'distention_of_abdomen': {0: 0}, 'history_of_alcohol_consumption': {0: 0}, 'fluid_overload.1': {0: 0}, 'blood_in_sputum': {0: 0}, 'prominent_veins_on_calf': {0: 0}, 'palpitations': {0: 0}, 'painful_walking': {0: 0}, 'pus_filled_pimples': {0: 0}, 'blackheads': {0: 0}, 'scurring': {0: 0}, 'skin_peeling': {0: 0}, 'silver_like_dusting': {0: 0}, 'small_dents_in_nails': {0: 0}, 'inflammatory_nails': {0: 0}, 'blister': {0: 0}, 'red_sore_around_nose': {0: 0}, 'yellow_crust_ooze': {0: 0}}\n",
        "\n",
        "LABELS = ['(vertigo) Paroymsal  Positional Vertigo', 'AIDS', 'Acne', 'Alcoholic hepatitis', 'Allergy', 'Arthritis', 'Bronchial Asthma', 'Cervical spondylosis', 'Chicken pox', 'Chronic cholestasis', 'Common Cold', 'Dengue', 'Diabetes ', 'Dimorphic hemmorhoids(piles)', 'Drug Reaction', 'Fungal infection', 'GERD', 'Gastroenteritis', 'Heart attack', 'Hepatitis B', 'Hepatitis C', 'Hepatitis D', 'Hepatitis E', 'Hypertension ', 'Hyperthyroidism', 'Hypoglycemia', 'Hypothyroidism', 'Impetigo', 'Jaundice', 'Malaria', 'Migraine', 'Osteoarthristis', 'Paralysis (brain hemorrhage)', 'Peptic ulcer diseae', 'Pneumonia', 'Psoriasis', 'Tuberculosis', 'Typhoid', 'Urinary tract infection', 'Varicose veins', 'hepatitis A']\n",
        "\n",
        "\n",
        "DISEASE_MODEL = keras.models.load_model('disease_model.h5')\n",
        "\n",
        "def get_symp_pd(symptoms_list):\n",
        "    s_dict = copy.deepcopy(SYMPTOMS)\n",
        "    for symp in symptoms_list:\n",
        "        if symp in s_dict:\n",
        "            s_dict.get(symp)[0] = 1\n",
        "    # convert symptoms to pandas data frame\n",
        "    s_dict = pd.DataFrame(s_dict)\n",
        "    \n",
        "    return s_dict\n",
        "\n",
        "def get_disease_name(symptoms_list):\n",
        "    symptoms_list = get_symp_pd(symptoms_list)\n",
        "    y_prob = DISEASE_MODEL.predict(symptoms_list) \n",
        "    y_classes = y_prob.argmax(axis=-1)\n",
        "    \n",
        "    return LABELS[y_prob[0].argmax(axis=-1)]"
      ],
      "metadata": {
        "id": "0gXgpFg48Dqi"
      },
      "execution_count": null,
      "outputs": []
    },
    {
      "cell_type": "code",
      "source": [
        "symp_disease = [\n",
        "    [['itching', 'skin_rash'], ''],\n",
        "    [['itching', 'skin_rash', 'fatigue'], ''],\n",
        "    [['sweating', 'chest_pain'], ''],\n",
        "    [['shivering', 'chills', 'watering_from_eyes'], ''],\n",
        "    [['weight_loss', 'high_fever', 'yellowish_skin'], ''],\n",
        "    [['skin_rash', 'chills', 'joint_pain', 'pain_behind_the_eyes', 'red_spots_over_body'], ''],\n",
        "    [['skin_rash', 'pus_filled_pimples'], ''],\n",
        "]\n",
        "\n",
        "for i in range(len(symp_disease)):\n",
        "    if (len(symp_disease[i][0]) != 0):\n",
        "        d_name = get_disease_name(symp_disease[i][0])\n",
        "        print(d_name + ' : ' + str(symp_disease[i][0]))"
      ],
      "metadata": {
        "colab": {
          "base_uri": "https://localhost:8080/"
        },
        "id": "-LLNd0P_8JrF",
        "outputId": "2b7ef2fb-f7c0-4230-d8c2-c42d71022bff"
      },
      "execution_count": null,
      "outputs": [
        {
          "output_type": "stream",
          "name": "stdout",
          "text": [
            "Drug Reaction : ['itching', 'skin_rash']\n",
            "Drug Reaction : ['itching', 'skin_rash', 'fatigue']\n",
            "Heart attack : ['sweating', 'chest_pain']\n",
            "Allergy : ['shivering', 'chills', 'watering_from_eyes']\n",
            "Jaundice : ['weight_loss', 'high_fever', 'yellowish_skin']\n",
            "Dengue : ['skin_rash', 'chills', 'joint_pain', 'pain_behind_the_eyes', 'red_spots_over_body']\n",
            "Acne : ['skin_rash', 'pus_filled_pimples']\n"
          ]
        }
      ]
    },
    {
      "cell_type": "code",
      "source": [
        "intents = {'symptoms': []}\n",
        "\n",
        "dic = {'name': '','patterns': ['']}\n",
        "\n",
        "for lbl in list(SYMPTOMS.keys()):\n",
        "    d = copy.deepcopy(dic)\n",
        "    d['name'] = lbl\n",
        "    d['patterns'] = [lbl, ]\n",
        "    intents['symptoms'].append(d)\n",
        "    \n",
        "import json\n",
        "\n",
        "# Serializing json   \n",
        "json_object = json.dumps(intents, indent = 4)  \n",
        "# print(json_object) "
      ],
      "metadata": {
        "id": "Xj4T52Jf8QsD"
      },
      "execution_count": null,
      "outputs": []
    },
    {
      "cell_type": "code",
      "source": [
        "SYMPTOMS_PATTERNS = intents\n",
        "\n",
        "def gen_symp_list(symp_str):\n",
        "    symp_list = []\n",
        "    symp_labels = list(SYMPTOMS.keys())\n",
        "\n",
        "    symp_pat = copy.deepcopy(SYMPTOMS_PATTERNS)\n",
        "\n",
        "    for symp in symp_pat['symptoms']:\n",
        "        for pattern in symp['patterns']:\n",
        "            if pattern in symp_str:\n",
        "                print(symp['name'])\n",
        "                symp_list.append(symp['name'])\n",
        "                break\n",
        "\n",
        "    return symp_list\n",
        "\n",
        "l = gen_symp_list('headache shivering pain_behind_the_eyes')\n",
        "\n",
        "print(l)"
      ],
      "metadata": {
        "colab": {
          "base_uri": "https://localhost:8080/"
        },
        "id": "V5u1nwD28TTq",
        "outputId": "1c31b20d-25f0-4e02-e052-9558f01ec5ac"
      },
      "execution_count": null,
      "outputs": [
        {
          "output_type": "stream",
          "name": "stdout",
          "text": [
            "shivering\n",
            "headache\n",
            "pain_behind_the_eyes\n",
            "['shivering', 'headache', 'pain_behind_the_eyes']\n"
          ]
        }
      ]
    },
    {
      "cell_type": "code",
      "source": [
        ""
      ],
      "metadata": {
        "id": "4-0aAUU5El7p"
      },
      "execution_count": null,
      "outputs": []
    }
  ]
}